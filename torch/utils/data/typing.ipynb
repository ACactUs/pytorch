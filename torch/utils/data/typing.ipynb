{
 "cells": [
  {
   "cell_type": "markdown",
   "metadata": {},
   "source": [
    "# DataPipe Typing System\n",
    "\n",
    "DataPipe typing system is introduced to make the graph of DataPipes more reliable and provide type inference for users. The typing system provide the flexibility for users to determine which level(s) to have type enforcement and risk false positive errors."
   ]
  },
  {
   "cell_type": "code",
   "execution_count": 1,
   "metadata": {},
   "outputs": [],
   "source": [
    "from torch.utils.data import IterDataPipe\n",
    "from typing import Any, Iterator, List, Tuple, TypeVar, Set, Union\n",
    "\n",
    "T_co = TypeVar('T_co', covariant=True)"
   ]
  },
  {
   "cell_type": "code",
   "execution_count": 2,
   "metadata": {},
   "outputs": [],
   "source": [
    "# Hide traceback of Error\n",
    "import functools\n",
    "ipython = get_ipython()\n",
    "ipython.showtraceback = functools.partial(ipython.showtraceback, exception_only=True)"
   ]
  },
  {
   "cell_type": "markdown",
   "metadata": {},
   "source": [
    "## Compile-time\n",
    "Compile-time typing is enabled by default for now. And it will generate an attribute of `type` for each DataPipe. If there is no type hint specified, the DataPipe is set to a default type `Any`.\n",
    "\n",
    "### Invalid Typing\n",
    "1. Return type hint of `__iter__` is not `Iterator`"
   ]
  },
  {
   "cell_type": "code",
   "execution_count": 3,
   "metadata": {},
   "outputs": [
    {
     "ename": "TypeError",
     "evalue": "Expected 'Iterator' as the return annotation for `__iter__` of InvalidDP1, but found str",
     "output_type": "error",
     "traceback": [
      "An exception has occurred, use %tb to see the full traceback.\n",
      "\u001b[0;31mTypeError\u001b[0m\u001b[0;31m:\u001b[0m Expected 'Iterator' as the return annotation for `__iter__` of InvalidDP1, but found str\n"
     ]
    }
   ],
   "source": [
    "class InvalidDP1(IterDataPipe[int]):\n",
    "    def __iter__(self) -> str:\n",
    "        pass"
   ]
  },
  {
   "cell_type": "markdown",
   "metadata": {},
   "source": [
    "2. Return type hint of `__iter__` doesn't match the declared type hint"
   ]
  },
  {
   "cell_type": "code",
   "execution_count": 4,
   "metadata": {},
   "outputs": [
    {
     "ename": "TypeError",
     "evalue": "Unmatched type annotation for InvalidDP2 (typing.Tuple vs typing.Tuple[int, str])",
     "output_type": "error",
     "traceback": [
      "An exception has occurred, use %tb to see the full traceback.\n",
      "\u001b[0;31mTypeError\u001b[0m\u001b[0;31m:\u001b[0m Unmatched type annotation for InvalidDP2 (typing.Tuple vs typing.Tuple[int, str])\n"
     ]
    }
   ],
   "source": [
    "class InvalidDP2(IterDataPipe[Tuple]):\n",
    "    def __iter__(self) -> Iterator[Tuple[int, str]]:\n",
    "        pass"
   ]
  },
  {
   "cell_type": "code",
   "execution_count": 5,
   "metadata": {},
   "outputs": [
    {
     "ename": "TypeError",
     "evalue": "Unmatched type annotation for InvalidDP3 (typing.Any vs int)",
     "output_type": "error",
     "traceback": [
      "An exception has occurred, use %tb to see the full traceback.\n",
      "\u001b[0;31mTypeError\u001b[0m\u001b[0;31m:\u001b[0m Unmatched type annotation for InvalidDP3 (typing.Any vs int)\n"
     ]
    }
   ],
   "source": [
    "class InvalidDP3(IterDataPipe):\n",
    "    def __iter__(self) -> Iterator[int]:\n",
    "        pass"
   ]
  },
  {
   "cell_type": "markdown",
   "metadata": {},
   "source": [
    "### Valid Typing\n",
    "1. Default Typing (Any) with/without return hint for `__iter__`"
   ]
  },
  {
   "cell_type": "code",
   "execution_count": 6,
   "metadata": {},
   "outputs": [
    {
     "name": "stdout",
     "output_type": "stream",
     "text": [
      "typing.Any\n"
     ]
    }
   ],
   "source": [
    "class DP(IterDataPipe):\n",
    "    def __iter__(self):\n",
    "        pass\n",
    "class DP(IterDataPipe):\n",
    "    def __iter__(self) -> Iterator:\n",
    "        pass\n",
    "class DP(IterDataPipe):\n",
    "    def __iter__(self) -> Iterator[T_co]:\n",
    "        pass\n",
    "print(DP.type)"
   ]
  },
  {
   "cell_type": "markdown",
   "metadata": {},
   "source": [
    "2. Matched type hints (including equal but not same types)"
   ]
  },
  {
   "cell_type": "code",
   "execution_count": 7,
   "metadata": {},
   "outputs": [],
   "source": [
    "class DP(IterDataPipe[Tuple[T_co, str]]):\n",
    "    def __iter__(self) -> Iterator[Tuple[T_co, str]]:\n",
    "        pass\n",
    "\n",
    "T = TypeVar('T', int, str)  # equals to Union[int, str]\n",
    "class DP(IterDataPipe[Tuple[T, str]]):\n",
    "    def __iter__(self) -> Iterator[Tuple[Union[int, str], str]]:\n",
    "        pass"
   ]
  },
  {
   "cell_type": "markdown",
   "metadata": {},
   "source": [
    "### Attribute `type`\n",
    "The attribute `type` is added into each DataPipe class.\n",
    "\n",
    "1. Fixed `type`\n",
    "\n",
    "    If `type` is a fixed type, the `type` of each instance will be referenced from class like `int`, `str`, `Tuple[int, str]`, and etc."
   ]
  },
  {
   "cell_type": "code",
   "execution_count": 8,
   "metadata": {},
   "outputs": [
    {
     "name": "stdout",
     "output_type": "stream",
     "text": [
      "typing.Tuple[int, str] typing.Tuple[int, str] True\n"
     ]
    }
   ],
   "source": [
    "class DP(IterDataPipe[Tuple[int, str]]):\n",
    "    def __iter__(self) -> Iterator[Tuple[int, str]]:\n",
    "        pass\n",
    "dp = DP()\n",
    "print(DP.type, dp.type, id(DP.type) == id(dp.type))"
   ]
  },
  {
   "cell_type": "code",
   "execution_count": 9,
   "metadata": {},
   "outputs": [
    {
     "name": "stdout",
     "output_type": "stream",
     "text": [
      "typing.Union[int, str] typing.Union[int, str] True\n"
     ]
    }
   ],
   "source": [
    "class DP(IterDataPipe[Union[int, str]]):\n",
    "    def __iter__(self) -> Iterator[Union[int, str]]:\n",
    "        pass\n",
    "dp = DP()\n",
    "print(DP.type, dp.type, id(DP.type) == id(dp.type))"
   ]
  },
  {
   "cell_type": "markdown",
   "metadata": {},
   "source": [
    "2. Non-fixed `type`\n",
    "     If `type` is a non-fixed type, the `type` attribute will be copied for each instance like `T_co`, `tuple`, and etc."
   ]
  },
  {
   "cell_type": "code",
   "execution_count": 10,
   "metadata": {},
   "outputs": [
    {
     "name": "stdout",
     "output_type": "stream",
     "text": [
      "typing.Any typing.Any False\n"
     ]
    }
   ],
   "source": [
    "class DP(IterDataPipe[Any]):\n",
    "    def __iter__(self) -> Iterator[Any]:\n",
    "        pass\n",
    "dp = DP()\n",
    "print(DP.type, dp.type, id(DP.type) == id(dp.type))"
   ]
  },
  {
   "cell_type": "code",
   "execution_count": 11,
   "metadata": {},
   "outputs": [
    {
     "name": "stdout",
     "output_type": "stream",
     "text": [
      "tuple tuple True\n"
     ]
    }
   ],
   "source": [
    "class DP(IterDataPipe[tuple]):\n",
    "    def __iter__(self) -> Iterator[tuple]:\n",
    "        pass\n",
    "dp = DP()\n",
    "print(DP.type, dp.type, id(DP.type) == id(dp.type))"
   ]
  },
  {
   "cell_type": "code",
   "execution_count": null,
   "metadata": {},
   "outputs": [],
   "source": []
  },
  {
   "cell_type": "code",
   "execution_count": null,
   "metadata": {},
   "outputs": [],
   "source": []
  }
 ],
 "metadata": {
  "kernelspec": {
   "display_name": "Python 3",
   "language": "python",
   "name": "python3"
  },
  "language_info": {
   "codemirror_mode": {
    "name": "ipython",
    "version": 3
   },
   "file_extension": ".py",
   "mimetype": "text/x-python",
   "name": "python",
   "nbconvert_exporter": "python",
   "pygments_lexer": "ipython3",
   "version": "3.8.5"
  }
 },
 "nbformat": 4,
 "nbformat_minor": 4
}
